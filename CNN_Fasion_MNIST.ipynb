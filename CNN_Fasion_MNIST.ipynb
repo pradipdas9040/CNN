{
 "cells": [
  {
   "cell_type": "code",
   "execution_count": 1,
   "id": "8aa283b9",
   "metadata": {
    "scrolled": true
   },
   "outputs": [
    {
     "name": "stdout",
     "output_type": "stream",
     "text": [
      "Downloading data from https://storage.googleapis.com/tensorflow/tf-keras-datasets/train-images-idx3-ubyte.gz\n",
      "26427392/26421880 [==============================] - 89s 3us/step\n",
      "26435584/26421880 [==============================] - 89s 3us/step\n",
      "Downloading data from https://storage.googleapis.com/tensorflow/tf-keras-datasets/t10k-labels-idx1-ubyte.gz\n",
      "16384/5148 [===============================================================================================] - 0s 0s/step\n",
      "Downloading data from https://storage.googleapis.com/tensorflow/tf-keras-datasets/t10k-images-idx3-ubyte.gz\n",
      "4423680/4422102 [==============================] - 20s 5us/step\n",
      "4431872/4422102 [==============================] - 20s 5us/step\n",
      "Epoch 1/5\n",
      "938/938 [==============================] - 48s 48ms/step - loss: 0.4717 - accuracy: 0.8291\n",
      "Epoch 2/5\n",
      "938/938 [==============================] - 47s 50ms/step - loss: 0.3190 - accuracy: 0.8851\n",
      "Epoch 3/5\n",
      "938/938 [==============================] - 47s 50ms/step - loss: 0.2772 - accuracy: 0.8988\n",
      "Epoch 4/5\n",
      "938/938 [==============================] - 44s 47ms/step - loss: 0.2488 - accuracy: 0.9090\n",
      "Epoch 5/5\n",
      "938/938 [==============================] - 48s 51ms/step - loss: 0.2300 - accuracy: 0.9161\n",
      "313/313 [==============================] - 3s 8ms/step - loss: 0.2764 - accuracy: 0.8978\n",
      "Test loss 0.2764076590538025\n",
      "Test accuracy 0.8978000283241272\n"
     ]
    }
   ],
   "source": [
    "from tensorflow import keras\n",
    "from keras.datasets import fashion_mnist \n",
    "from keras.layers import Dense, Activation, Flatten, Conv2D, MaxPooling2D\n",
    "from keras.models import Sequential\n",
    "from tensorflow.keras.utils import to_categorical\n",
    "import numpy as np\n",
    "import matplotlib.pyplot as plt\n",
    "\n",
    "(train_X,train_Y), (test_X,test_Y) = fashion_mnist.load_data()\n",
    "\n",
    "train_X = train_X.reshape(-1, 28,28, 1)\n",
    "test_X = test_X.reshape(-1, 28,28, 1)\n",
    "\n",
    "train_X = train_X.astype('float32')\n",
    "test_X = test_X.astype('float32')\n",
    "train_X = train_X / 255\n",
    "test_X = test_X / 255\n",
    "\n",
    "train_Y_one_hot = to_categorical(train_Y)\n",
    "test_Y_one_hot = to_categorical(test_Y)\n",
    "\n",
    "model = Sequential()\n",
    "\n",
    "model.add(Conv2D(64, (3,3), input_shape=(28, 28, 1)))\n",
    "model.add(Activation('relu'))\n",
    "model.add(MaxPooling2D(pool_size=(2,2)))\n",
    "\n",
    "model.add(Conv2D(64, (3,3)))\n",
    "model.add(Activation('relu'))\n",
    "model.add(MaxPooling2D(pool_size=(2,2)))\n",
    "\n",
    "model.add(Flatten())\n",
    "model.add(Dense(64))\n",
    "\n",
    "model.add(Dense(10))\n",
    "model.add(Activation('softmax'))\n",
    "\n",
    "model.compile(loss=keras.losses.categorical_crossentropy, optimizer= keras.optimizers.Adam(),metrics=['accuracy'])\n",
    "\n",
    "model.fit(train_X, train_Y_one_hot, batch_size=64, epochs=5)\n",
    "\n",
    "test_loss, test_acc = model.evaluate(test_X, test_Y_one_hot)\n",
    "print('Test loss', test_loss)\n",
    "print('Test accuracy', test_acc)"
   ]
  },
  {
   "attachments": {
    "download.png": {
     "image/png": "[encoded data removed]"
    }
   },
   "cell_type": "markdown",
   "id": "94fc9b61",
   "metadata": {},
   "source": [
    "![download.png](attachment:download.png)"
   ]
  },
  {
   "cell_type": "code",
   "execution_count": 2,
   "id": "249d7717",
   "metadata": {},
   "outputs": [
    {
     "name": "stdout",
     "output_type": "stream",
     "text": [
      "2\n"
     ]
    }
   ],
   "source": [
    "predictions = model.predict(test_X)\n",
    "print(np.argmax(np.round(predictions[55])))"
   ]
  },
  {
   "cell_type": "code",
   "execution_count": 3,
   "id": "8161c27b",
   "metadata": {},
   "outputs": [
    {
     "data": {
      "image/png": "[encoded data removed]",
      "text/plain": [
       "<Figure size 432x288 with 1 Axes>"
      ]
     },
     "metadata": {
      "needs_background": "light"
     },
     "output_type": "display_data"
    }
   ],
   "source": [
    "plt.imshow(test_X[55].reshape(28, 28), cmap = plt.cm.binary)\n",
    "plt.show()"
   ]
  }
 ],
 "metadata": {
  "kernelspec": {
   "display_name": "Python 3 (ipykernel)",
   "language": "python",
   "name": "python3"
  },
  "language_info": {
   "codemirror_mode": {
    "name": "ipython",
    "version": 3
   },
   "file_extension": ".py",
   "mimetype": "text/x-python",
   "name": "python",
   "nbconvert_exporter": "python",
   "pygments_lexer": "ipython3",
   "version": "3.10.2"
  }
 },
 "nbformat": 4,
 "nbformat_minor": 5
}
